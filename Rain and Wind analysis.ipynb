{
 "cells": [
  {
   "cell_type": "markdown",
   "metadata": {},
   "source": [
    "# Watertown, MA Rain and Wind analysis"
   ]
  },
  {
   "cell_type": "code",
   "execution_count": 1,
   "metadata": {},
   "outputs": [],
   "source": [
    "import requests\n",
    "import os\n",
    "import numpy as np\n",
    "import pandas as pd\n",
    "import getweatherdata\n",
    "import matplotlib.pyplot as plt\n",
    "from ipywidgets import interact\n",
    "import ipywidgets as widgets\n",
    "#the next two are not needed in newer versions of Jupyter, Python\n",
    "from IPython.display import display\n",
    "%matplotlib inline"
   ]
  },
  {
   "cell_type": "code",
   "execution_count": 2,
   "metadata": {},
   "outputs": [],
   "source": [
    "#cannot use pd.read_csv because the file is not in the correct format\n",
    "#use np.genfromtxt instead to read from fixed-width text file\n",
    "#fields are unicode strings of prescribed length or double\n",
    "\n",
    "stations = np.genfromtxt(os.getcwd()+'/stationdata.txt', delimiter=[11,9,10,7,3,31,4,4,6],\n",
    "                                         names=['id','latitude','longitude','elevation','state','name',\n",
    "                                                'gsn','hcn','wmo'],\n",
    "                                         dtype=['U11','d','d','d','U3','U31','U4','U4','U6'],\n",
    "                                         autostrip=True)"
   ]
  },
  {
   "cell_type": "code",
   "execution_count": 3,
   "metadata": {
    "scrolled": true
   },
   "outputs": [
    {
     "data": {
      "text/plain": [
       "array([('US1MAMD0119', 42.3711, -71.1995, 16.5, 'MA', 'WATERTOWN 1.1 W', '', '', ''),\n",
       "       ('US1MAMD0186', 42.3786, -71.1959, 36. , 'MA', 'WATERTOWN 1.1 NW', '', '', '')],\n",
       "      dtype=[('id', '<U11'), ('latitude', '<f8'), ('longitude', '<f8'), ('elevation', '<f8'), ('state', '<U3'), ('name', '<U31'), ('gsn', '<U4'), ('hcn', '<U4'), ('wmo', '<U6')])"
      ]
     },
     "execution_count": 3,
     "metadata": {},
     "output_type": "execute_result"
    }
   ],
   "source": [
    "#find stations beginning with \"Watertown\" in Massachusetts\n",
    "stations[np.logical_and(np.char.find(stations['name'],'WATERTOWN')==0,stations['state']=='MA')]"
   ]
  },
  {
   "cell_type": "markdown",
   "metadata": {},
   "source": [
    "Both stations in Watertown, MA, are not in any of the quality-controlled large networks, so may only have limited data."
   ]
  },
  {
   "cell_type": "code",
   "execution_count": 4,
   "metadata": {},
   "outputs": [],
   "source": [
    "response=requests.get('https://www1.ncdc.noaa.gov/pub/data/ghcn/daily/all/US1MAMD0119.dly')\n",
    "with open('WatertownW.dly', 'w') as file:\n",
    "    file.write(response.text)"
   ]
  },
  {
   "cell_type": "code",
   "execution_count": 5,
   "metadata": {},
   "outputs": [],
   "source": [
    "getweatherdata.dly_to_csv('WatertownW.dly','WATERTOWNW')"
   ]
  },
  {
   "cell_type": "code",
   "execution_count": 6,
   "metadata": {},
   "outputs": [],
   "source": [
    "response=requests.get('https://www1.ncdc.noaa.gov/pub/data/ghcn/daily/all/US1MAMD0186.dly')\n",
    "with open('WatertownNW.dly', 'w') as file:\n",
    "    file.write(response.text)"
   ]
  },
  {
   "cell_type": "code",
   "execution_count": 7,
   "metadata": {},
   "outputs": [],
   "source": [
    "getweatherdata.dly_to_csv('WatertownNW.dly','WATERTOWNNW')"
   ]
  },
  {
   "cell_type": "markdown",
   "metadata": {},
   "source": [
    "The following are features of interest for WIND as per the [documentation](https://www1.ncdc.noaa.gov/pub/data/ghcn/daily/readme.txt):\n",
    "* AWDR = Average daily wind direction (degrees)\n",
    "* AWND = Average daily wind speed (tenths of meters per second)\n",
    "* WDF1 = Direction of fastest 1-minute wind (degrees)\n",
    "* WDF2 = Direction of fastest 2-minute wind (degrees)\n",
    "* WDF5 = Direction of fastest 5-second wind (degrees)\n",
    "* WDFG = Direction of peak wind gust (degrees)\n",
    "* WDFI = Direction of highest instantaneous wind (degrees)\n",
    "* WDFM = Fastest mile wind direction (degrees)\n",
    "* WDMV = 24-hour wind movement (km or miles as per user preference, miles on Daily Form pdf file)\n",
    "* WSF1 = Fastest 1-minute wind speed (miles per hour or meters per second as per user preference)\n",
    "* WSF2 = Fastest 2-minute wind speed (miles per hour or meters per second as per user preference)\n",
    "* WSF5 = Fastest 5-second wind speed (miles per hour or meters per second as per user preference)\n",
    "* WSFG = Peak guest wind speed (miles per hour or meters per second as per user preference)\n",
    "* WSFI = Highest instantaneous wind speed (miles per hour or meters per second as per user preference)\n",
    "* WSFM = Fastest mile wind speed (miles per hour or meters per second as per user preference)"
   ]
  },
  {
   "cell_type": "code",
   "execution_count": 8,
   "metadata": {},
   "outputs": [
    {
     "data": {
      "text/html": [
       "<div>\n",
       "<style scoped>\n",
       "    .dataframe tbody tr th:only-of-type {\n",
       "        vertical-align: middle;\n",
       "    }\n",
       "\n",
       "    .dataframe tbody tr th {\n",
       "        vertical-align: top;\n",
       "    }\n",
       "\n",
       "    .dataframe thead th {\n",
       "        text-align: right;\n",
       "    }\n",
       "</style>\n",
       "<table border=\"1\" class=\"dataframe\">\n",
       "  <thead>\n",
       "    <tr style=\"text-align: right;\">\n",
       "      <th></th>\n",
       "      <th>STATION</th>\n",
       "      <th>DATE</th>\n",
       "      <th>PRCP</th>\n",
       "      <th>PRCP_ATTRIBUTES</th>\n",
       "      <th>SNOW</th>\n",
       "      <th>SNOW_ATTRIBUTES</th>\n",
       "      <th>SNWD</th>\n",
       "      <th>SNWD_ATTRIBUTES</th>\n",
       "      <th>WESD</th>\n",
       "      <th>WESD_ATTRIBUTES</th>\n",
       "      <th>WESF</th>\n",
       "      <th>WESF_ATTRIBUTES</th>\n",
       "    </tr>\n",
       "  </thead>\n",
       "  <tbody>\n",
       "    <tr>\n",
       "      <th>0</th>\n",
       "      <td>US1MAMD0119</td>\n",
       "      <td>2018-05-03</td>\n",
       "      <td>0.0</td>\n",
       "      <td>,,N</td>\n",
       "      <td>0.0</td>\n",
       "      <td>,,N</td>\n",
       "      <td>0.0</td>\n",
       "      <td>,,N</td>\n",
       "      <td>0.0</td>\n",
       "      <td>,,N</td>\n",
       "      <td>0.0</td>\n",
       "      <td>,,N</td>\n",
       "    </tr>\n",
       "    <tr>\n",
       "      <th>1</th>\n",
       "      <td>US1MAMD0119</td>\n",
       "      <td>2018-05-04</td>\n",
       "      <td>13.0</td>\n",
       "      <td>,,N</td>\n",
       "      <td>0.0</td>\n",
       "      <td>,,N</td>\n",
       "      <td>0.0</td>\n",
       "      <td>,,N</td>\n",
       "      <td>0.0</td>\n",
       "      <td>,,N</td>\n",
       "      <td>0.0</td>\n",
       "      <td>,,N</td>\n",
       "    </tr>\n",
       "    <tr>\n",
       "      <th>2</th>\n",
       "      <td>US1MAMD0119</td>\n",
       "      <td>2018-05-05</td>\n",
       "      <td>3.0</td>\n",
       "      <td>,,N</td>\n",
       "      <td>0.0</td>\n",
       "      <td>,,N</td>\n",
       "      <td>0.0</td>\n",
       "      <td>,,N</td>\n",
       "      <td>0.0</td>\n",
       "      <td>,,N</td>\n",
       "      <td>0.0</td>\n",
       "      <td>,,N</td>\n",
       "    </tr>\n",
       "    <tr>\n",
       "      <th>3</th>\n",
       "      <td>US1MAMD0119</td>\n",
       "      <td>2018-05-06</td>\n",
       "      <td>0.0</td>\n",
       "      <td>T,,N</td>\n",
       "      <td>0.0</td>\n",
       "      <td>,,N</td>\n",
       "      <td>0.0</td>\n",
       "      <td>,,N</td>\n",
       "      <td>0.0</td>\n",
       "      <td>,,N</td>\n",
       "      <td>0.0</td>\n",
       "      <td>,,N</td>\n",
       "    </tr>\n",
       "    <tr>\n",
       "      <th>4</th>\n",
       "      <td>US1MAMD0119</td>\n",
       "      <td>2018-05-07</td>\n",
       "      <td>71.0</td>\n",
       "      <td>,,N</td>\n",
       "      <td>0.0</td>\n",
       "      <td>,,N</td>\n",
       "      <td>0.0</td>\n",
       "      <td>,,N</td>\n",
       "      <td>0.0</td>\n",
       "      <td>,,N</td>\n",
       "      <td>0.0</td>\n",
       "      <td>,,N</td>\n",
       "    </tr>\n",
       "  </tbody>\n",
       "</table>\n",
       "</div>"
      ],
      "text/plain": [
       "       STATION        DATE  PRCP PRCP_ATTRIBUTES  SNOW SNOW_ATTRIBUTES  SNWD  \\\n",
       "0  US1MAMD0119  2018-05-03   0.0             ,,N   0.0             ,,N   0.0   \n",
       "1  US1MAMD0119  2018-05-04  13.0             ,,N   0.0             ,,N   0.0   \n",
       "2  US1MAMD0119  2018-05-05   3.0             ,,N   0.0             ,,N   0.0   \n",
       "3  US1MAMD0119  2018-05-06   0.0            T,,N   0.0             ,,N   0.0   \n",
       "4  US1MAMD0119  2018-05-07  71.0             ,,N   0.0             ,,N   0.0   \n",
       "\n",
       "  SNWD_ATTRIBUTES  WESD WESD_ATTRIBUTES  WESF WESF_ATTRIBUTES  \n",
       "0             ,,N   0.0             ,,N   0.0             ,,N  \n",
       "1             ,,N   0.0             ,,N   0.0             ,,N  \n",
       "2             ,,N   0.0             ,,N   0.0             ,,N  \n",
       "3             ,,N   0.0             ,,N   0.0             ,,N  \n",
       "4             ,,N   0.0             ,,N   0.0             ,,N  "
      ]
     },
     "execution_count": 8,
     "metadata": {},
     "output_type": "execute_result"
    }
   ],
   "source": [
    "Watertown1=pd.read_csv('WATERTOWNW.csv')\n",
    "Watertown1.head()"
   ]
  },
  {
   "cell_type": "code",
   "execution_count": 9,
   "metadata": {},
   "outputs": [
    {
     "data": {
      "text/html": [
       "<div>\n",
       "<style scoped>\n",
       "    .dataframe tbody tr th:only-of-type {\n",
       "        vertical-align: middle;\n",
       "    }\n",
       "\n",
       "    .dataframe tbody tr th {\n",
       "        vertical-align: top;\n",
       "    }\n",
       "\n",
       "    .dataframe thead th {\n",
       "        text-align: right;\n",
       "    }\n",
       "</style>\n",
       "<table border=\"1\" class=\"dataframe\">\n",
       "  <thead>\n",
       "    <tr style=\"text-align: right;\">\n",
       "      <th></th>\n",
       "      <th>STATION</th>\n",
       "      <th>DATE</th>\n",
       "      <th>DAPR</th>\n",
       "      <th>DAPR_ATTRIBUTES</th>\n",
       "      <th>MDPR</th>\n",
       "      <th>MDPR_ATTRIBUTES</th>\n",
       "      <th>PRCP</th>\n",
       "      <th>PRCP_ATTRIBUTES</th>\n",
       "      <th>SNOW</th>\n",
       "      <th>SNOW_ATTRIBUTES</th>\n",
       "      <th>WESF</th>\n",
       "      <th>WESF_ATTRIBUTES</th>\n",
       "    </tr>\n",
       "  </thead>\n",
       "  <tbody>\n",
       "    <tr>\n",
       "      <th>0</th>\n",
       "      <td>US1MAMD0186</td>\n",
       "      <td>2021-03-07</td>\n",
       "      <td>NaN</td>\n",
       "      <td>NaN</td>\n",
       "      <td>NaN</td>\n",
       "      <td>NaN</td>\n",
       "      <td>0.0</td>\n",
       "      <td>,,N</td>\n",
       "      <td>0.0</td>\n",
       "      <td>,,N</td>\n",
       "      <td>NaN</td>\n",
       "      <td>NaN</td>\n",
       "    </tr>\n",
       "    <tr>\n",
       "      <th>1</th>\n",
       "      <td>US1MAMD0186</td>\n",
       "      <td>2021-03-08</td>\n",
       "      <td>NaN</td>\n",
       "      <td>NaN</td>\n",
       "      <td>NaN</td>\n",
       "      <td>NaN</td>\n",
       "      <td>0.0</td>\n",
       "      <td>,,N</td>\n",
       "      <td>0.0</td>\n",
       "      <td>,,N</td>\n",
       "      <td>NaN</td>\n",
       "      <td>NaN</td>\n",
       "    </tr>\n",
       "    <tr>\n",
       "      <th>2</th>\n",
       "      <td>US1MAMD0186</td>\n",
       "      <td>2021-03-09</td>\n",
       "      <td>NaN</td>\n",
       "      <td>NaN</td>\n",
       "      <td>NaN</td>\n",
       "      <td>NaN</td>\n",
       "      <td>0.0</td>\n",
       "      <td>,,N</td>\n",
       "      <td>0.0</td>\n",
       "      <td>,,N</td>\n",
       "      <td>NaN</td>\n",
       "      <td>NaN</td>\n",
       "    </tr>\n",
       "    <tr>\n",
       "      <th>3</th>\n",
       "      <td>US1MAMD0186</td>\n",
       "      <td>2021-03-10</td>\n",
       "      <td>NaN</td>\n",
       "      <td>NaN</td>\n",
       "      <td>NaN</td>\n",
       "      <td>NaN</td>\n",
       "      <td>0.0</td>\n",
       "      <td>,,N</td>\n",
       "      <td>0.0</td>\n",
       "      <td>,,N</td>\n",
       "      <td>NaN</td>\n",
       "      <td>NaN</td>\n",
       "    </tr>\n",
       "    <tr>\n",
       "      <th>4</th>\n",
       "      <td>US1MAMD0186</td>\n",
       "      <td>2021-03-11</td>\n",
       "      <td>NaN</td>\n",
       "      <td>NaN</td>\n",
       "      <td>NaN</td>\n",
       "      <td>NaN</td>\n",
       "      <td>0.0</td>\n",
       "      <td>,,N</td>\n",
       "      <td>0.0</td>\n",
       "      <td>,,N</td>\n",
       "      <td>NaN</td>\n",
       "      <td>NaN</td>\n",
       "    </tr>\n",
       "  </tbody>\n",
       "</table>\n",
       "</div>"
      ],
      "text/plain": [
       "       STATION        DATE  DAPR DAPR_ATTRIBUTES  MDPR MDPR_ATTRIBUTES  PRCP  \\\n",
       "0  US1MAMD0186  2021-03-07   NaN             NaN   NaN             NaN   0.0   \n",
       "1  US1MAMD0186  2021-03-08   NaN             NaN   NaN             NaN   0.0   \n",
       "2  US1MAMD0186  2021-03-09   NaN             NaN   NaN             NaN   0.0   \n",
       "3  US1MAMD0186  2021-03-10   NaN             NaN   NaN             NaN   0.0   \n",
       "4  US1MAMD0186  2021-03-11   NaN             NaN   NaN             NaN   0.0   \n",
       "\n",
       "  PRCP_ATTRIBUTES  SNOW SNOW_ATTRIBUTES  WESF WESF_ATTRIBUTES  \n",
       "0             ,,N   0.0             ,,N   NaN             NaN  \n",
       "1             ,,N   0.0             ,,N   NaN             NaN  \n",
       "2             ,,N   0.0             ,,N   NaN             NaN  \n",
       "3             ,,N   0.0             ,,N   NaN             NaN  \n",
       "4             ,,N   0.0             ,,N   NaN             NaN  "
      ]
     },
     "execution_count": 9,
     "metadata": {},
     "output_type": "execute_result"
    }
   ],
   "source": [
    "Watertown2=pd.read_csv('WATERTOWNNW.csv')\n",
    "Watertown2.head()"
   ]
  },
  {
   "cell_type": "markdown",
   "metadata": {},
   "source": [
    "For wind data, find a nearby station that has more data. We try one that is part of the WMO (world meteorological organization)."
   ]
  },
  {
   "cell_type": "code",
   "execution_count": 10,
   "metadata": {},
   "outputs": [
    {
     "data": {
      "text/plain": [
       "array([('US1MASF0001', 42.357 , -71.0671, 13.1, 'MA', 'BOSTON 0.5 WSW', '', '', ''),\n",
       "       ('US1MASF0031', 42.2927, -71.1456, 54.6, 'MA', 'BOSTON 6.5 SW', '', '', ''),\n",
       "       ('USC00190768', 42.35  , -71.0667,  5.2, 'MA', 'BOSTON', '', '', ''),\n",
       "       ('USW00014739', 42.3606, -71.0097,  3.4, 'MA', 'BOSTON', '', '', '72509'),\n",
       "       ('USW00094701', 42.35  , -71.0667,  6.1, 'MA', 'BOSTON CITY WSO', '', '', '')],\n",
       "      dtype=[('id', '<U11'), ('latitude', '<f8'), ('longitude', '<f8'), ('elevation', '<f8'), ('state', '<U3'), ('name', '<U31'), ('gsn', '<U4'), ('hcn', '<U4'), ('wmo', '<U6')])"
      ]
     },
     "execution_count": 10,
     "metadata": {},
     "output_type": "execute_result"
    }
   ],
   "source": [
    "#find stations beginning with 'BOSTON' in Massachusetts, one (Boston Logan) has a WMO ID\n",
    "stations[np.logical_and(np.char.find(stations['name'],'BOSTON')==0,stations['state']=='MA')]"
   ]
  },
  {
   "cell_type": "code",
   "execution_count": 11,
   "metadata": {},
   "outputs": [
    {
     "data": {
      "text/plain": [
       "array([('US1MAMD0011', 42.3876, -71.1253, 14.6, 'MA', 'CAMBRIDGE 0.9 NNW', '', '', ''),\n",
       "       ('US1MAMD0151', 42.3644, -71.1087,  5.2, 'MA', 'CAMBRIDGE 0.9 SSE', '', '', ''),\n",
       "       ('USC00191097', 42.3833, -71.1167, 18. , 'MA', 'CAMBRIDGE', '', '', ''),\n",
       "       ('USC00191099', 42.3833, -71.1   ,  2.4, 'MA', 'CAMBRIDGE \"B\"', '', '', ''),\n",
       "       ('USC00191103', 42.375 , -71.1056,  4. , 'MA', 'CAMBRIDGE \"C\"', '', '', ''),\n",
       "       ('USC00191110', 42.3667, -71.1   ,  5.8, 'MA', 'CAMBRIDGE MIT', '', '', '')],\n",
       "      dtype=[('id', '<U11'), ('latitude', '<f8'), ('longitude', '<f8'), ('elevation', '<f8'), ('state', '<U3'), ('name', '<U31'), ('gsn', '<U4'), ('hcn', '<U4'), ('wmo', '<U6')])"
      ]
     },
     "execution_count": 11,
     "metadata": {},
     "output_type": "execute_result"
    }
   ],
   "source": [
    "#find stations beginning with \"CAMBRIDGE\" in Massachusetts\n",
    "stations[np.logical_and(np.char.find(stations['name'],'CAMBRIDGE')==0,stations['state']=='MA')]"
   ]
  },
  {
   "cell_type": "code",
   "execution_count": 12,
   "metadata": {},
   "outputs": [
    {
     "data": {
      "text/html": [
       "<div>\n",
       "<style scoped>\n",
       "    .dataframe tbody tr th:only-of-type {\n",
       "        vertical-align: middle;\n",
       "    }\n",
       "\n",
       "    .dataframe tbody tr th {\n",
       "        vertical-align: top;\n",
       "    }\n",
       "\n",
       "    .dataframe thead th {\n",
       "        text-align: right;\n",
       "    }\n",
       "</style>\n",
       "<table border=\"1\" class=\"dataframe\">\n",
       "  <thead>\n",
       "    <tr style=\"text-align: right;\">\n",
       "      <th></th>\n",
       "      <th>STATION</th>\n",
       "      <th>DATE</th>\n",
       "      <th>ACMH</th>\n",
       "      <th>ACMH_ATTRIBUTES</th>\n",
       "      <th>ACSH</th>\n",
       "      <th>ACSH_ATTRIBUTES</th>\n",
       "      <th>ADPT</th>\n",
       "      <th>ADPT_ATTRIBUTES</th>\n",
       "      <th>ASLP</th>\n",
       "      <th>ASLP_ATTRIBUTES</th>\n",
       "      <th>...</th>\n",
       "      <th>WT17</th>\n",
       "      <th>WT17_ATTRIBUTES</th>\n",
       "      <th>WT18</th>\n",
       "      <th>WT18_ATTRIBUTES</th>\n",
       "      <th>WT19</th>\n",
       "      <th>WT19_ATTRIBUTES</th>\n",
       "      <th>WT21</th>\n",
       "      <th>WT21_ATTRIBUTES</th>\n",
       "      <th>WT22</th>\n",
       "      <th>WT22_ATTRIBUTES</th>\n",
       "    </tr>\n",
       "  </thead>\n",
       "  <tbody>\n",
       "    <tr>\n",
       "      <th>0</th>\n",
       "      <td>USW00014739</td>\n",
       "      <td>1936-01-01</td>\n",
       "      <td>NaN</td>\n",
       "      <td>NaN</td>\n",
       "      <td>NaN</td>\n",
       "      <td>NaN</td>\n",
       "      <td>NaN</td>\n",
       "      <td>NaN</td>\n",
       "      <td>NaN</td>\n",
       "      <td>NaN</td>\n",
       "      <td>...</td>\n",
       "      <td>NaN</td>\n",
       "      <td>NaN</td>\n",
       "      <td>NaN</td>\n",
       "      <td>NaN</td>\n",
       "      <td>NaN</td>\n",
       "      <td>NaN</td>\n",
       "      <td>NaN</td>\n",
       "      <td>NaN</td>\n",
       "      <td>NaN</td>\n",
       "      <td>NaN</td>\n",
       "    </tr>\n",
       "    <tr>\n",
       "      <th>1</th>\n",
       "      <td>USW00014739</td>\n",
       "      <td>1936-01-02</td>\n",
       "      <td>NaN</td>\n",
       "      <td>NaN</td>\n",
       "      <td>NaN</td>\n",
       "      <td>NaN</td>\n",
       "      <td>NaN</td>\n",
       "      <td>NaN</td>\n",
       "      <td>NaN</td>\n",
       "      <td>NaN</td>\n",
       "      <td>...</td>\n",
       "      <td>NaN</td>\n",
       "      <td>NaN</td>\n",
       "      <td>1.0</td>\n",
       "      <td>,,X</td>\n",
       "      <td>NaN</td>\n",
       "      <td>NaN</td>\n",
       "      <td>NaN</td>\n",
       "      <td>NaN</td>\n",
       "      <td>NaN</td>\n",
       "      <td>NaN</td>\n",
       "    </tr>\n",
       "    <tr>\n",
       "      <th>2</th>\n",
       "      <td>USW00014739</td>\n",
       "      <td>1936-01-03</td>\n",
       "      <td>NaN</td>\n",
       "      <td>NaN</td>\n",
       "      <td>NaN</td>\n",
       "      <td>NaN</td>\n",
       "      <td>NaN</td>\n",
       "      <td>NaN</td>\n",
       "      <td>NaN</td>\n",
       "      <td>NaN</td>\n",
       "      <td>...</td>\n",
       "      <td>NaN</td>\n",
       "      <td>NaN</td>\n",
       "      <td>NaN</td>\n",
       "      <td>NaN</td>\n",
       "      <td>NaN</td>\n",
       "      <td>NaN</td>\n",
       "      <td>NaN</td>\n",
       "      <td>NaN</td>\n",
       "      <td>NaN</td>\n",
       "      <td>NaN</td>\n",
       "    </tr>\n",
       "    <tr>\n",
       "      <th>3</th>\n",
       "      <td>USW00014739</td>\n",
       "      <td>1936-01-04</td>\n",
       "      <td>NaN</td>\n",
       "      <td>NaN</td>\n",
       "      <td>NaN</td>\n",
       "      <td>NaN</td>\n",
       "      <td>NaN</td>\n",
       "      <td>NaN</td>\n",
       "      <td>NaN</td>\n",
       "      <td>NaN</td>\n",
       "      <td>...</td>\n",
       "      <td>NaN</td>\n",
       "      <td>NaN</td>\n",
       "      <td>NaN</td>\n",
       "      <td>NaN</td>\n",
       "      <td>NaN</td>\n",
       "      <td>NaN</td>\n",
       "      <td>NaN</td>\n",
       "      <td>NaN</td>\n",
       "      <td>NaN</td>\n",
       "      <td>NaN</td>\n",
       "    </tr>\n",
       "    <tr>\n",
       "      <th>4</th>\n",
       "      <td>USW00014739</td>\n",
       "      <td>1936-01-05</td>\n",
       "      <td>NaN</td>\n",
       "      <td>NaN</td>\n",
       "      <td>NaN</td>\n",
       "      <td>NaN</td>\n",
       "      <td>NaN</td>\n",
       "      <td>NaN</td>\n",
       "      <td>NaN</td>\n",
       "      <td>NaN</td>\n",
       "      <td>...</td>\n",
       "      <td>NaN</td>\n",
       "      <td>NaN</td>\n",
       "      <td>1.0</td>\n",
       "      <td>,,X</td>\n",
       "      <td>NaN</td>\n",
       "      <td>NaN</td>\n",
       "      <td>NaN</td>\n",
       "      <td>NaN</td>\n",
       "      <td>NaN</td>\n",
       "      <td>NaN</td>\n",
       "    </tr>\n",
       "  </tbody>\n",
       "</table>\n",
       "<p>5 rows × 108 columns</p>\n",
       "</div>"
      ],
      "text/plain": [
       "       STATION        DATE  ACMH ACMH_ATTRIBUTES  ACSH ACSH_ATTRIBUTES  ADPT  \\\n",
       "0  USW00014739  1936-01-01   NaN             NaN   NaN             NaN   NaN   \n",
       "1  USW00014739  1936-01-02   NaN             NaN   NaN             NaN   NaN   \n",
       "2  USW00014739  1936-01-03   NaN             NaN   NaN             NaN   NaN   \n",
       "3  USW00014739  1936-01-04   NaN             NaN   NaN             NaN   NaN   \n",
       "4  USW00014739  1936-01-05   NaN             NaN   NaN             NaN   NaN   \n",
       "\n",
       "  ADPT_ATTRIBUTES  ASLP ASLP_ATTRIBUTES  ...  WT17 WT17_ATTRIBUTES  WT18  \\\n",
       "0             NaN   NaN             NaN  ...   NaN             NaN   NaN   \n",
       "1             NaN   NaN             NaN  ...   NaN             NaN   1.0   \n",
       "2             NaN   NaN             NaN  ...   NaN             NaN   NaN   \n",
       "3             NaN   NaN             NaN  ...   NaN             NaN   NaN   \n",
       "4             NaN   NaN             NaN  ...   NaN             NaN   1.0   \n",
       "\n",
       "  WT18_ATTRIBUTES  WT19 WT19_ATTRIBUTES  WT21 WT21_ATTRIBUTES  WT22  \\\n",
       "0             NaN   NaN             NaN   NaN             NaN   NaN   \n",
       "1             ,,X   NaN             NaN   NaN             NaN   NaN   \n",
       "2             NaN   NaN             NaN   NaN             NaN   NaN   \n",
       "3             NaN   NaN             NaN   NaN             NaN   NaN   \n",
       "4             ,,X   NaN             NaN   NaN             NaN   NaN   \n",
       "\n",
       "  WT22_ATTRIBUTES  \n",
       "0             NaN  \n",
       "1             NaN  \n",
       "2             NaN  \n",
       "3             NaN  \n",
       "4             NaN  \n",
       "\n",
       "[5 rows x 108 columns]"
      ]
     },
     "execution_count": 12,
     "metadata": {},
     "output_type": "execute_result"
    }
   ],
   "source": [
    "#the Cambridge stations do not have a WMO id, so we will stick with Boston Logan\n",
    "response=requests.get('https://www1.ncdc.noaa.gov/pub/data/ghcn/daily/all/USW00014739.dly')\n",
    "with open('BostonLogan.dly', 'w') as file:\n",
    "    file.write(response.text)\n",
    "getweatherdata.dly_to_csv('BostonLogan.dly','BOSTONLOGAN')\n",
    "BostonLogan=pd.read_csv('BOSTONLOGAN.csv',low_memory=False) #low_memory=False suppresses a warning about mixed data types in columns \n",
    "BostonLogan.head()"
   ]
  },
  {
   "cell_type": "markdown",
   "metadata": {},
   "source": [
    "## Filtering Data"
   ]
  },
  {
   "cell_type": "markdown",
   "metadata": {},
   "source": [
    "Now, trim down the columns to include only precipitation, temperature, and wind data."
   ]
  },
  {
   "cell_type": "code",
   "execution_count": 13,
   "metadata": {},
   "outputs": [
    {
     "data": {
      "text/plain": [
       "['AWND',\n",
       " 'TMAX',\n",
       " 'TMIN',\n",
       " 'WDF1',\n",
       " 'WDF2',\n",
       " 'WDF5',\n",
       " 'WDFG',\n",
       " 'WDFM',\n",
       " 'WSF1',\n",
       " 'WSF2',\n",
       " 'WSF5',\n",
       " 'WSFG',\n",
       " 'WSFM']"
      ]
     },
     "execution_count": 13,
     "metadata": {},
     "output_type": "execute_result"
    }
   ],
   "source": [
    "#filter data for wind direction and speed, as well as temperature, from Boston Logan weather station\n",
    "cols=list(BostonLogan.columns.values)\n",
    "mask=list(pd.Series(cols).str.match('^(AW|WD|WS|TM)[^B]\\w{1}$')) #columns starting AW, WD, WS, or TM, not followed by B,\n",
    "#4 characters only (so no flag columns)\n",
    "cols=[col for i,col in enumerate(cols) if mask[i]]\n",
    "cols"
   ]
  },
  {
   "cell_type": "code",
   "execution_count": 14,
   "metadata": {},
   "outputs": [
    {
     "data": {
      "text/html": [
       "<div>\n",
       "<style scoped>\n",
       "    .dataframe tbody tr th:only-of-type {\n",
       "        vertical-align: middle;\n",
       "    }\n",
       "\n",
       "    .dataframe tbody tr th {\n",
       "        vertical-align: top;\n",
       "    }\n",
       "\n",
       "    .dataframe thead th {\n",
       "        text-align: right;\n",
       "    }\n",
       "</style>\n",
       "<table border=\"1\" class=\"dataframe\">\n",
       "  <thead>\n",
       "    <tr style=\"text-align: right;\">\n",
       "      <th></th>\n",
       "      <th>STATION</th>\n",
       "      <th>DATE</th>\n",
       "      <th>AWND</th>\n",
       "      <th>TMAX</th>\n",
       "      <th>TMIN</th>\n",
       "      <th>WDF2</th>\n",
       "      <th>WDF5</th>\n",
       "      <th>WSF2</th>\n",
       "      <th>WSF5</th>\n",
       "    </tr>\n",
       "  </thead>\n",
       "  <tbody>\n",
       "    <tr>\n",
       "      <th>31412</th>\n",
       "      <td>USW00014739</td>\n",
       "      <td>2022-01-01</td>\n",
       "      <td>15.0</td>\n",
       "      <td>111.0</td>\n",
       "      <td>67.0</td>\n",
       "      <td>120.0</td>\n",
       "      <td>120.0</td>\n",
       "      <td>36.0</td>\n",
       "      <td>49.0</td>\n",
       "    </tr>\n",
       "    <tr>\n",
       "      <th>31413</th>\n",
       "      <td>USW00014739</td>\n",
       "      <td>2022-01-02</td>\n",
       "      <td>40.0</td>\n",
       "      <td>78.0</td>\n",
       "      <td>6.0</td>\n",
       "      <td>310.0</td>\n",
       "      <td>320.0</td>\n",
       "      <td>103.0</td>\n",
       "      <td>130.0</td>\n",
       "    </tr>\n",
       "    <tr>\n",
       "      <th>31414</th>\n",
       "      <td>USW00014739</td>\n",
       "      <td>2022-01-03</td>\n",
       "      <td>63.0</td>\n",
       "      <td>6.0</td>\n",
       "      <td>-60.0</td>\n",
       "      <td>20.0</td>\n",
       "      <td>330.0</td>\n",
       "      <td>89.0</td>\n",
       "      <td>121.0</td>\n",
       "    </tr>\n",
       "    <tr>\n",
       "      <th>31415</th>\n",
       "      <td>USW00014739</td>\n",
       "      <td>2022-01-04</td>\n",
       "      <td>44.0</td>\n",
       "      <td>-5.0</td>\n",
       "      <td>-82.0</td>\n",
       "      <td>310.0</td>\n",
       "      <td>330.0</td>\n",
       "      <td>76.0</td>\n",
       "      <td>98.0</td>\n",
       "    </tr>\n",
       "    <tr>\n",
       "      <th>31416</th>\n",
       "      <td>USW00014739</td>\n",
       "      <td>2022-01-05</td>\n",
       "      <td>50.0</td>\n",
       "      <td>106.0</td>\n",
       "      <td>-27.0</td>\n",
       "      <td>180.0</td>\n",
       "      <td>180.0</td>\n",
       "      <td>107.0</td>\n",
       "      <td>161.0</td>\n",
       "    </tr>\n",
       "    <tr>\n",
       "      <th>31417</th>\n",
       "      <td>USW00014739</td>\n",
       "      <td>2022-01-06</td>\n",
       "      <td>48.0</td>\n",
       "      <td>61.0</td>\n",
       "      <td>0.0</td>\n",
       "      <td>290.0</td>\n",
       "      <td>300.0</td>\n",
       "      <td>98.0</td>\n",
       "      <td>125.0</td>\n",
       "    </tr>\n",
       "    <tr>\n",
       "      <th>31418</th>\n",
       "      <td>USW00014739</td>\n",
       "      <td>2022-01-07</td>\n",
       "      <td>60.0</td>\n",
       "      <td>6.0</td>\n",
       "      <td>-49.0</td>\n",
       "      <td>280.0</td>\n",
       "      <td>270.0</td>\n",
       "      <td>103.0</td>\n",
       "      <td>130.0</td>\n",
       "    </tr>\n",
       "    <tr>\n",
       "      <th>31419</th>\n",
       "      <td>USW00014739</td>\n",
       "      <td>2022-01-08</td>\n",
       "      <td>48.0</td>\n",
       "      <td>-21.0</td>\n",
       "      <td>-82.0</td>\n",
       "      <td>310.0</td>\n",
       "      <td>330.0</td>\n",
       "      <td>103.0</td>\n",
       "      <td>134.0</td>\n",
       "    </tr>\n",
       "    <tr>\n",
       "      <th>31420</th>\n",
       "      <td>USW00014739</td>\n",
       "      <td>2022-01-09</td>\n",
       "      <td>72.0</td>\n",
       "      <td>61.0</td>\n",
       "      <td>-60.0</td>\n",
       "      <td>230.0</td>\n",
       "      <td>230.0</td>\n",
       "      <td>143.0</td>\n",
       "      <td>197.0</td>\n",
       "    </tr>\n",
       "    <tr>\n",
       "      <th>31421</th>\n",
       "      <td>USW00014739</td>\n",
       "      <td>2022-01-10</td>\n",
       "      <td>75.0</td>\n",
       "      <td>44.0</td>\n",
       "      <td>-55.0</td>\n",
       "      <td>280.0</td>\n",
       "      <td>280.0</td>\n",
       "      <td>112.0</td>\n",
       "      <td>161.0</td>\n",
       "    </tr>\n",
       "    <tr>\n",
       "      <th>31422</th>\n",
       "      <td>USW00014739</td>\n",
       "      <td>2022-01-11</td>\n",
       "      <td>59.0</td>\n",
       "      <td>-55.0</td>\n",
       "      <td>-132.0</td>\n",
       "      <td>310.0</td>\n",
       "      <td>330.0</td>\n",
       "      <td>107.0</td>\n",
       "      <td>143.0</td>\n",
       "    </tr>\n",
       "    <tr>\n",
       "      <th>31423</th>\n",
       "      <td>USW00014739</td>\n",
       "      <td>2022-01-12</td>\n",
       "      <td>58.0</td>\n",
       "      <td>56.0</td>\n",
       "      <td>-121.0</td>\n",
       "      <td>220.0</td>\n",
       "      <td>220.0</td>\n",
       "      <td>134.0</td>\n",
       "      <td>165.0</td>\n",
       "    </tr>\n",
       "    <tr>\n",
       "      <th>31424</th>\n",
       "      <td>USW00014739</td>\n",
       "      <td>2022-01-13</td>\n",
       "      <td>19.0</td>\n",
       "      <td>78.0</td>\n",
       "      <td>-16.0</td>\n",
       "      <td>120.0</td>\n",
       "      <td>180.0</td>\n",
       "      <td>54.0</td>\n",
       "      <td>63.0</td>\n",
       "    </tr>\n",
       "    <tr>\n",
       "      <th>31425</th>\n",
       "      <td>USW00014739</td>\n",
       "      <td>2022-01-14</td>\n",
       "      <td>73.0</td>\n",
       "      <td>50.0</td>\n",
       "      <td>-93.0</td>\n",
       "      <td>310.0</td>\n",
       "      <td>330.0</td>\n",
       "      <td>116.0</td>\n",
       "      <td>165.0</td>\n",
       "    </tr>\n",
       "    <tr>\n",
       "      <th>31426</th>\n",
       "      <td>USW00014739</td>\n",
       "      <td>2022-01-15</td>\n",
       "      <td>77.0</td>\n",
       "      <td>-93.0</td>\n",
       "      <td>-155.0</td>\n",
       "      <td>320.0</td>\n",
       "      <td>330.0</td>\n",
       "      <td>125.0</td>\n",
       "      <td>152.0</td>\n",
       "    </tr>\n",
       "    <tr>\n",
       "      <th>31427</th>\n",
       "      <td>USW00014739</td>\n",
       "      <td>2022-01-16</td>\n",
       "      <td>37.0</td>\n",
       "      <td>17.0</td>\n",
       "      <td>-149.0</td>\n",
       "      <td>120.0</td>\n",
       "      <td>110.0</td>\n",
       "      <td>103.0</td>\n",
       "      <td>125.0</td>\n",
       "    </tr>\n",
       "    <tr>\n",
       "      <th>31428</th>\n",
       "      <td>USW00014739</td>\n",
       "      <td>2022-01-17</td>\n",
       "      <td>107.0</td>\n",
       "      <td>94.0</td>\n",
       "      <td>17.0</td>\n",
       "      <td>100.0</td>\n",
       "      <td>120.0</td>\n",
       "      <td>197.0</td>\n",
       "      <td>250.0</td>\n",
       "    </tr>\n",
       "    <tr>\n",
       "      <th>31429</th>\n",
       "      <td>USW00014739</td>\n",
       "      <td>2022-01-18</td>\n",
       "      <td>81.0</td>\n",
       "      <td>22.0</td>\n",
       "      <td>-60.0</td>\n",
       "      <td>280.0</td>\n",
       "      <td>270.0</td>\n",
       "      <td>134.0</td>\n",
       "      <td>179.0</td>\n",
       "    </tr>\n",
       "    <tr>\n",
       "      <th>31430</th>\n",
       "      <td>USW00014739</td>\n",
       "      <td>2022-01-19</td>\n",
       "      <td>62.0</td>\n",
       "      <td>78.0</td>\n",
       "      <td>-66.0</td>\n",
       "      <td>210.0</td>\n",
       "      <td>230.0</td>\n",
       "      <td>139.0</td>\n",
       "      <td>192.0</td>\n",
       "    </tr>\n",
       "    <tr>\n",
       "      <th>31431</th>\n",
       "      <td>USW00014739</td>\n",
       "      <td>2022-01-20</td>\n",
       "      <td>49.0</td>\n",
       "      <td>50.0</td>\n",
       "      <td>-71.0</td>\n",
       "      <td>330.0</td>\n",
       "      <td>320.0</td>\n",
       "      <td>98.0</td>\n",
       "      <td>125.0</td>\n",
       "    </tr>\n",
       "  </tbody>\n",
       "</table>\n",
       "</div>"
      ],
      "text/plain": [
       "           STATION        DATE   AWND   TMAX   TMIN   WDF2   WDF5   WSF2  \\\n",
       "31412  USW00014739  2022-01-01   15.0  111.0   67.0  120.0  120.0   36.0   \n",
       "31413  USW00014739  2022-01-02   40.0   78.0    6.0  310.0  320.0  103.0   \n",
       "31414  USW00014739  2022-01-03   63.0    6.0  -60.0   20.0  330.0   89.0   \n",
       "31415  USW00014739  2022-01-04   44.0   -5.0  -82.0  310.0  330.0   76.0   \n",
       "31416  USW00014739  2022-01-05   50.0  106.0  -27.0  180.0  180.0  107.0   \n",
       "31417  USW00014739  2022-01-06   48.0   61.0    0.0  290.0  300.0   98.0   \n",
       "31418  USW00014739  2022-01-07   60.0    6.0  -49.0  280.0  270.0  103.0   \n",
       "31419  USW00014739  2022-01-08   48.0  -21.0  -82.0  310.0  330.0  103.0   \n",
       "31420  USW00014739  2022-01-09   72.0   61.0  -60.0  230.0  230.0  143.0   \n",
       "31421  USW00014739  2022-01-10   75.0   44.0  -55.0  280.0  280.0  112.0   \n",
       "31422  USW00014739  2022-01-11   59.0  -55.0 -132.0  310.0  330.0  107.0   \n",
       "31423  USW00014739  2022-01-12   58.0   56.0 -121.0  220.0  220.0  134.0   \n",
       "31424  USW00014739  2022-01-13   19.0   78.0  -16.0  120.0  180.0   54.0   \n",
       "31425  USW00014739  2022-01-14   73.0   50.0  -93.0  310.0  330.0  116.0   \n",
       "31426  USW00014739  2022-01-15   77.0  -93.0 -155.0  320.0  330.0  125.0   \n",
       "31427  USW00014739  2022-01-16   37.0   17.0 -149.0  120.0  110.0  103.0   \n",
       "31428  USW00014739  2022-01-17  107.0   94.0   17.0  100.0  120.0  197.0   \n",
       "31429  USW00014739  2022-01-18   81.0   22.0  -60.0  280.0  270.0  134.0   \n",
       "31430  USW00014739  2022-01-19   62.0   78.0  -66.0  210.0  230.0  139.0   \n",
       "31431  USW00014739  2022-01-20   49.0   50.0  -71.0  330.0  320.0   98.0   \n",
       "\n",
       "        WSF5  \n",
       "31412   49.0  \n",
       "31413  130.0  \n",
       "31414  121.0  \n",
       "31415   98.0  \n",
       "31416  161.0  \n",
       "31417  125.0  \n",
       "31418  130.0  \n",
       "31419  134.0  \n",
       "31420  197.0  \n",
       "31421  161.0  \n",
       "31422  143.0  \n",
       "31423  165.0  \n",
       "31424   63.0  \n",
       "31425  165.0  \n",
       "31426  152.0  \n",
       "31427  125.0  \n",
       "31428  250.0  \n",
       "31429  179.0  \n",
       "31430  192.0  \n",
       "31431  125.0  "
      ]
     },
     "execution_count": 14,
     "metadata": {},
     "output_type": "execute_result"
    }
   ],
   "source": [
    "#now restrict the columns to cols+identifiers, and restrict the date range\n",
    "BostonLogan=BostonLogan[['STATION','DATE']+cols]\n",
    "BostonLogan=BostonLogan[BostonLogan['DATE']>='2022-01-01']\n",
    "#keep only columns which have at least one non-null entry\n",
    "BostonLogan=BostonLogan[BostonLogan.columns[BostonLogan.notnull().sum()>0]]\n",
    "BostonLogan.head(20)"
   ]
  },
  {
   "cell_type": "code",
   "execution_count": 15,
   "metadata": {},
   "outputs": [],
   "source": [
    "#date restrict df1 and df2, and restrict the columns to station, date, precipitation, and snow\n",
    "Watertown1=Watertown1[Watertown1['DATE']>='2022-01-01']\n",
    "Watertown1=Watertown1[['STATION','DATE','PRCP','SNOW']]\n",
    "Watertown2=Watertown2[Watertown2['DATE']>='2022-01-01']\n",
    "Watertown2=Watertown2[['STATION','DATE','PRCP','SNOW']]"
   ]
  },
  {
   "cell_type": "code",
   "execution_count": 16,
   "metadata": {
    "scrolled": false
   },
   "outputs": [
    {
     "data": {
      "text/html": [
       "<div>\n",
       "<style scoped>\n",
       "    .dataframe tbody tr th:only-of-type {\n",
       "        vertical-align: middle;\n",
       "    }\n",
       "\n",
       "    .dataframe tbody tr th {\n",
       "        vertical-align: top;\n",
       "    }\n",
       "\n",
       "    .dataframe thead th {\n",
       "        text-align: right;\n",
       "    }\n",
       "</style>\n",
       "<table border=\"1\" class=\"dataframe\">\n",
       "  <thead>\n",
       "    <tr style=\"text-align: right;\">\n",
       "      <th></th>\n",
       "      <th>STATION</th>\n",
       "      <th>DATE</th>\n",
       "      <th>PRCP</th>\n",
       "      <th>SNOW</th>\n",
       "    </tr>\n",
       "  </thead>\n",
       "  <tbody>\n",
       "    <tr>\n",
       "      <th>1328</th>\n",
       "      <td>US1MAMD0119</td>\n",
       "      <td>2022-01-01</td>\n",
       "      <td>5.0</td>\n",
       "      <td>0.0</td>\n",
       "    </tr>\n",
       "    <tr>\n",
       "      <th>1329</th>\n",
       "      <td>US1MAMD0119</td>\n",
       "      <td>2022-01-02</td>\n",
       "      <td>76.0</td>\n",
       "      <td>0.0</td>\n",
       "    </tr>\n",
       "    <tr>\n",
       "      <th>1330</th>\n",
       "      <td>US1MAMD0119</td>\n",
       "      <td>2022-01-03</td>\n",
       "      <td>8.0</td>\n",
       "      <td>0.0</td>\n",
       "    </tr>\n",
       "    <tr>\n",
       "      <th>1331</th>\n",
       "      <td>US1MAMD0119</td>\n",
       "      <td>2022-01-04</td>\n",
       "      <td>0.0</td>\n",
       "      <td>0.0</td>\n",
       "    </tr>\n",
       "    <tr>\n",
       "      <th>1332</th>\n",
       "      <td>US1MAMD0119</td>\n",
       "      <td>2022-01-05</td>\n",
       "      <td>0.0</td>\n",
       "      <td>0.0</td>\n",
       "    </tr>\n",
       "    <tr>\n",
       "      <th>1333</th>\n",
       "      <td>US1MAMD0119</td>\n",
       "      <td>2022-01-06</td>\n",
       "      <td>76.0</td>\n",
       "      <td>0.0</td>\n",
       "    </tr>\n",
       "    <tr>\n",
       "      <th>1334</th>\n",
       "      <td>US1MAMD0119</td>\n",
       "      <td>2022-01-07</td>\n",
       "      <td>79.0</td>\n",
       "      <td>170.0</td>\n",
       "    </tr>\n",
       "    <tr>\n",
       "      <th>1335</th>\n",
       "      <td>US1MAMD0119</td>\n",
       "      <td>2022-01-08</td>\n",
       "      <td>51.0</td>\n",
       "      <td>43.0</td>\n",
       "    </tr>\n",
       "    <tr>\n",
       "      <th>1336</th>\n",
       "      <td>US1MAMD0119</td>\n",
       "      <td>2022-01-09</td>\n",
       "      <td>0.0</td>\n",
       "      <td>0.0</td>\n",
       "    </tr>\n",
       "    <tr>\n",
       "      <th>1337</th>\n",
       "      <td>US1MAMD0119</td>\n",
       "      <td>2022-01-10</td>\n",
       "      <td>3.0</td>\n",
       "      <td>NaN</td>\n",
       "    </tr>\n",
       "    <tr>\n",
       "      <th>1338</th>\n",
       "      <td>US1MAMD0119</td>\n",
       "      <td>2022-01-11</td>\n",
       "      <td>0.0</td>\n",
       "      <td>3.0</td>\n",
       "    </tr>\n",
       "    <tr>\n",
       "      <th>1339</th>\n",
       "      <td>US1MAMD0119</td>\n",
       "      <td>2022-01-12</td>\n",
       "      <td>0.0</td>\n",
       "      <td>0.0</td>\n",
       "    </tr>\n",
       "    <tr>\n",
       "      <th>1340</th>\n",
       "      <td>US1MAMD0119</td>\n",
       "      <td>2022-01-13</td>\n",
       "      <td>0.0</td>\n",
       "      <td>0.0</td>\n",
       "    </tr>\n",
       "    <tr>\n",
       "      <th>1341</th>\n",
       "      <td>US1MAMD0119</td>\n",
       "      <td>2022-01-14</td>\n",
       "      <td>0.0</td>\n",
       "      <td>0.0</td>\n",
       "    </tr>\n",
       "    <tr>\n",
       "      <th>1342</th>\n",
       "      <td>US1MAMD0119</td>\n",
       "      <td>2022-01-15</td>\n",
       "      <td>0.0</td>\n",
       "      <td>0.0</td>\n",
       "    </tr>\n",
       "    <tr>\n",
       "      <th>1343</th>\n",
       "      <td>US1MAMD0119</td>\n",
       "      <td>2022-01-16</td>\n",
       "      <td>0.0</td>\n",
       "      <td>0.0</td>\n",
       "    </tr>\n",
       "    <tr>\n",
       "      <th>1344</th>\n",
       "      <td>US1MAMD0119</td>\n",
       "      <td>2022-01-17</td>\n",
       "      <td>203.0</td>\n",
       "      <td>0.0</td>\n",
       "    </tr>\n",
       "    <tr>\n",
       "      <th>1345</th>\n",
       "      <td>US1MAMD0119</td>\n",
       "      <td>2022-01-18</td>\n",
       "      <td>127.0</td>\n",
       "      <td>0.0</td>\n",
       "    </tr>\n",
       "    <tr>\n",
       "      <th>1346</th>\n",
       "      <td>US1MAMD0119</td>\n",
       "      <td>2022-01-19</td>\n",
       "      <td>0.0</td>\n",
       "      <td>0.0</td>\n",
       "    </tr>\n",
       "    <tr>\n",
       "      <th>1347</th>\n",
       "      <td>US1MAMD0119</td>\n",
       "      <td>2022-01-20</td>\n",
       "      <td>15.0</td>\n",
       "      <td>0.0</td>\n",
       "    </tr>\n",
       "  </tbody>\n",
       "</table>\n",
       "</div>"
      ],
      "text/plain": [
       "          STATION        DATE   PRCP   SNOW\n",
       "1328  US1MAMD0119  2022-01-01    5.0    0.0\n",
       "1329  US1MAMD0119  2022-01-02   76.0    0.0\n",
       "1330  US1MAMD0119  2022-01-03    8.0    0.0\n",
       "1331  US1MAMD0119  2022-01-04    0.0    0.0\n",
       "1332  US1MAMD0119  2022-01-05    0.0    0.0\n",
       "1333  US1MAMD0119  2022-01-06   76.0    0.0\n",
       "1334  US1MAMD0119  2022-01-07   79.0  170.0\n",
       "1335  US1MAMD0119  2022-01-08   51.0   43.0\n",
       "1336  US1MAMD0119  2022-01-09    0.0    0.0\n",
       "1337  US1MAMD0119  2022-01-10    3.0    NaN\n",
       "1338  US1MAMD0119  2022-01-11    0.0    3.0\n",
       "1339  US1MAMD0119  2022-01-12    0.0    0.0\n",
       "1340  US1MAMD0119  2022-01-13    0.0    0.0\n",
       "1341  US1MAMD0119  2022-01-14    0.0    0.0\n",
       "1342  US1MAMD0119  2022-01-15    0.0    0.0\n",
       "1343  US1MAMD0119  2022-01-16    0.0    0.0\n",
       "1344  US1MAMD0119  2022-01-17  203.0    0.0\n",
       "1345  US1MAMD0119  2022-01-18  127.0    0.0\n",
       "1346  US1MAMD0119  2022-01-19    0.0    0.0\n",
       "1347  US1MAMD0119  2022-01-20   15.0    0.0"
      ]
     },
     "execution_count": 16,
     "metadata": {},
     "output_type": "execute_result"
    }
   ],
   "source": [
    "Watertown1.head(20) #precipitation is given in tenths of mm"
   ]
  },
  {
   "cell_type": "code",
   "execution_count": 17,
   "metadata": {
    "scrolled": true
   },
   "outputs": [
    {
     "data": {
      "text/html": [
       "<div>\n",
       "<style scoped>\n",
       "    .dataframe tbody tr th:only-of-type {\n",
       "        vertical-align: middle;\n",
       "    }\n",
       "\n",
       "    .dataframe tbody tr th {\n",
       "        vertical-align: top;\n",
       "    }\n",
       "\n",
       "    .dataframe thead th {\n",
       "        text-align: right;\n",
       "    }\n",
       "</style>\n",
       "<table border=\"1\" class=\"dataframe\">\n",
       "  <thead>\n",
       "    <tr style=\"text-align: right;\">\n",
       "      <th></th>\n",
       "      <th>STATION</th>\n",
       "      <th>DATE</th>\n",
       "      <th>PRCP</th>\n",
       "      <th>SNOW</th>\n",
       "    </tr>\n",
       "  </thead>\n",
       "  <tbody>\n",
       "    <tr>\n",
       "      <th>270</th>\n",
       "      <td>US1MAMD0186</td>\n",
       "      <td>2022-01-01</td>\n",
       "      <td>3.0</td>\n",
       "      <td>NaN</td>\n",
       "    </tr>\n",
       "    <tr>\n",
       "      <th>271</th>\n",
       "      <td>US1MAMD0186</td>\n",
       "      <td>2022-01-02</td>\n",
       "      <td>81.0</td>\n",
       "      <td>NaN</td>\n",
       "    </tr>\n",
       "    <tr>\n",
       "      <th>272</th>\n",
       "      <td>US1MAMD0186</td>\n",
       "      <td>2022-01-03</td>\n",
       "      <td>5.0</td>\n",
       "      <td>NaN</td>\n",
       "    </tr>\n",
       "    <tr>\n",
       "      <th>273</th>\n",
       "      <td>US1MAMD0186</td>\n",
       "      <td>2022-01-04</td>\n",
       "      <td>0.0</td>\n",
       "      <td>0.0</td>\n",
       "    </tr>\n",
       "    <tr>\n",
       "      <th>274</th>\n",
       "      <td>US1MAMD0186</td>\n",
       "      <td>2022-01-06</td>\n",
       "      <td>71.0</td>\n",
       "      <td>NaN</td>\n",
       "    </tr>\n",
       "  </tbody>\n",
       "</table>\n",
       "</div>"
      ],
      "text/plain": [
       "         STATION        DATE  PRCP  SNOW\n",
       "270  US1MAMD0186  2022-01-01   3.0   NaN\n",
       "271  US1MAMD0186  2022-01-02  81.0   NaN\n",
       "272  US1MAMD0186  2022-01-03   5.0   NaN\n",
       "273  US1MAMD0186  2022-01-04   0.0   0.0\n",
       "274  US1MAMD0186  2022-01-06  71.0   NaN"
      ]
     },
     "execution_count": 17,
     "metadata": {},
     "output_type": "execute_result"
    }
   ],
   "source": [
    "Watertown2.head() #we see here that missing dates can occur (Jan 5, 2022 is missing), so need to take care of mapping dates correctly"
   ]
  },
  {
   "cell_type": "markdown",
   "metadata": {},
   "source": [
    "## Plotting Data"
   ]
  },
  {
   "cell_type": "markdown",
   "metadata": {},
   "source": [
    "### Quick plots"
   ]
  },
  {
   "cell_type": "markdown",
   "metadata": {},
   "source": [
    "Plot temperature, precipitation, highlight special wind events (wind coming from ENE to ESE)."
   ]
  },
  {
   "cell_type": "code",
   "execution_count": 18,
   "metadata": {},
   "outputs": [
    {
     "data": {
      "text/plain": [
       "[<matplotlib.lines.Line2D at 0x15833b50>]"
      ]
     },
     "execution_count": 18,
     "metadata": {},
     "output_type": "execute_result"
    },
    {
     "data": {
      "image/png": "[encoded data removed]",
      "text/plain": [
       "<Figure size 640x480 with 1 Axes>"
      ]
     },
     "metadata": {},
     "output_type": "display_data"
    }
   ],
   "source": [
    "#first quick plot of the temperature ... only important to gauge snowfall vs rain\n",
    "plt.plot(BostonLogan['TMIN']/10)\n",
    "plt.plot(BostonLogan['TMAX']/10)"
   ]
  },
  {
   "cell_type": "code",
   "execution_count": 19,
   "metadata": {},
   "outputs": [
    {
     "data": {
      "text/plain": [
       "<BarContainer object of 436 artists>"
      ]
     },
     "execution_count": 19,
     "metadata": {},
     "output_type": "execute_result"
    },
    {
     "data": {
      "image/png": "[encoded data removed]",
      "text/plain": [
       "<Figure size 640x480 with 1 Axes>"
      ]
     },
     "metadata": {},
     "output_type": "display_data"
    }
   ],
   "source": [
    "#first quick plot of precipitation/rain and snow in cm\n",
    "days=np.arange(1,len(Watertown1)+1)\n",
    "plt.bar(days,Watertown1['PRCP']/100)\n",
    "plt.bar(days,Watertown1['SNOW']/100)"
   ]
  },
  {
   "cell_type": "code",
   "execution_count": 20,
   "metadata": {},
   "outputs": [
    {
     "data": {
      "text/plain": [
       "<matplotlib.collections.PathCollection at 0x14e12e20>"
      ]
     },
     "execution_count": 20,
     "metadata": {},
     "output_type": "execute_result"
    },
    {
     "data": {
      "image/png": "[encoded data removed]",
      "text/plain": [
       "<Figure size 640x480 with 1 Axes>"
      ]
     },
     "metadata": {},
     "output_type": "display_data"
    }
   ],
   "source": [
    "#first quick plot of wind speed, highlighting wind coming from ENE to ESE directions (60 to 120 degrees from true North)\n",
    "days=np.arange(1,len(BostonLogan)+1)\n",
    "col=np.where((BostonLogan['WDF2']>=60) & (BostonLogan['WDF2']<=120),'c','k')\n",
    "plt.scatter(days,BostonLogan['WSF2'],c=col)"
   ]
  },
  {
   "cell_type": "markdown",
   "metadata": {},
   "source": [
    "### Detailed plots"
   ]
  },
  {
   "cell_type": "code",
   "execution_count": 21,
   "metadata": {},
   "outputs": [],
   "source": [
    "#indexing by date\n",
    "Watertown1.index=pd.DatetimeIndex(Watertown1.DATE)\n",
    "Watertown2.index=pd.DatetimeIndex(Watertown2.DATE)\n",
    "BostonLogan.index=pd.DatetimeIndex(BostonLogan.DATE)"
   ]
  },
  {
   "cell_type": "code",
   "execution_count": 22,
   "metadata": {},
   "outputs": [],
   "source": [
    "#reindex, filling in missing dates, so that all dataframes have the same index (NOW we have new objects with np.NaN filled)\n",
    "today=pd.to_datetime('today').date()\n",
    "Watertown1=Watertown1.reindex(pd.date_range(\"2022-01-01\", today))\n",
    "Watertown2=Watertown2.reindex(pd.date_range(\"2022-01-01\", today))\n",
    "BostonLogan=BostonLogan.reindex(pd.date_range(\"2022-01-01\", today))"
   ]
  },
  {
   "cell_type": "code",
   "execution_count": 23,
   "metadata": {},
   "outputs": [
    {
     "data": {
      "text/html": [
       "<div>\n",
       "<style scoped>\n",
       "    .dataframe tbody tr th:only-of-type {\n",
       "        vertical-align: middle;\n",
       "    }\n",
       "\n",
       "    .dataframe tbody tr th {\n",
       "        vertical-align: top;\n",
       "    }\n",
       "\n",
       "    .dataframe thead th {\n",
       "        text-align: right;\n",
       "    }\n",
       "</style>\n",
       "<table border=\"1\" class=\"dataframe\">\n",
       "  <thead>\n",
       "    <tr style=\"text-align: right;\">\n",
       "      <th></th>\n",
       "      <th>STATION</th>\n",
       "      <th>DATE</th>\n",
       "      <th>PRCP</th>\n",
       "      <th>SNOW</th>\n",
       "    </tr>\n",
       "  </thead>\n",
       "  <tbody>\n",
       "    <tr>\n",
       "      <th>2022-01-01</th>\n",
       "      <td>US1MAMD0186</td>\n",
       "      <td>2022-01-01</td>\n",
       "      <td>3.0</td>\n",
       "      <td>NaN</td>\n",
       "    </tr>\n",
       "    <tr>\n",
       "      <th>2022-01-02</th>\n",
       "      <td>US1MAMD0186</td>\n",
       "      <td>2022-01-02</td>\n",
       "      <td>81.0</td>\n",
       "      <td>NaN</td>\n",
       "    </tr>\n",
       "    <tr>\n",
       "      <th>2022-01-03</th>\n",
       "      <td>US1MAMD0186</td>\n",
       "      <td>2022-01-03</td>\n",
       "      <td>5.0</td>\n",
       "      <td>NaN</td>\n",
       "    </tr>\n",
       "    <tr>\n",
       "      <th>2022-01-04</th>\n",
       "      <td>US1MAMD0186</td>\n",
       "      <td>2022-01-04</td>\n",
       "      <td>0.0</td>\n",
       "      <td>0.0</td>\n",
       "    </tr>\n",
       "    <tr>\n",
       "      <th>2022-01-05</th>\n",
       "      <td>NaN</td>\n",
       "      <td>NaN</td>\n",
       "      <td>NaN</td>\n",
       "      <td>NaN</td>\n",
       "    </tr>\n",
       "  </tbody>\n",
       "</table>\n",
       "</div>"
      ],
      "text/plain": [
       "                STATION        DATE  PRCP  SNOW\n",
       "2022-01-01  US1MAMD0186  2022-01-01   3.0   NaN\n",
       "2022-01-02  US1MAMD0186  2022-01-02  81.0   NaN\n",
       "2022-01-03  US1MAMD0186  2022-01-03   5.0   NaN\n",
       "2022-01-04  US1MAMD0186  2022-01-04   0.0   0.0\n",
       "2022-01-05          NaN         NaN   NaN   NaN"
      ]
     },
     "execution_count": 23,
     "metadata": {},
     "output_type": "execute_result"
    }
   ],
   "source": [
    "Watertown2.head()"
   ]
  },
  {
   "cell_type": "code",
   "execution_count": 24,
   "metadata": {},
   "outputs": [
    {
     "data": {
      "text/html": [
       "<div>\n",
       "<style scoped>\n",
       "    .dataframe tbody tr th:only-of-type {\n",
       "        vertical-align: middle;\n",
       "    }\n",
       "\n",
       "    .dataframe tbody tr th {\n",
       "        vertical-align: top;\n",
       "    }\n",
       "\n",
       "    .dataframe thead th {\n",
       "        text-align: right;\n",
       "    }\n",
       "</style>\n",
       "<table border=\"1\" class=\"dataframe\">\n",
       "  <thead>\n",
       "    <tr style=\"text-align: right;\">\n",
       "      <th></th>\n",
       "      <th>STATION</th>\n",
       "      <th>DATE</th>\n",
       "      <th>AWND</th>\n",
       "      <th>TMAX</th>\n",
       "      <th>TMIN</th>\n",
       "      <th>WDF2</th>\n",
       "      <th>WDF5</th>\n",
       "      <th>WSF2</th>\n",
       "      <th>WSF5</th>\n",
       "    </tr>\n",
       "  </thead>\n",
       "  <tbody>\n",
       "    <tr>\n",
       "      <th>2023-03-15</th>\n",
       "      <td>USW00014739</td>\n",
       "      <td>2023-03-15</td>\n",
       "      <td>92.0</td>\n",
       "      <td>67.0</td>\n",
       "      <td>11.0</td>\n",
       "      <td>320.0</td>\n",
       "      <td>330.0</td>\n",
       "      <td>143.0</td>\n",
       "      <td>197.0</td>\n",
       "    </tr>\n",
       "    <tr>\n",
       "      <th>2023-03-16</th>\n",
       "      <td>USW00014739</td>\n",
       "      <td>2023-03-16</td>\n",
       "      <td>60.0</td>\n",
       "      <td>106.0</td>\n",
       "      <td>11.0</td>\n",
       "      <td>290.0</td>\n",
       "      <td>280.0</td>\n",
       "      <td>103.0</td>\n",
       "      <td>134.0</td>\n",
       "    </tr>\n",
       "    <tr>\n",
       "      <th>2023-03-17</th>\n",
       "      <td>USW00014739</td>\n",
       "      <td>2023-03-17</td>\n",
       "      <td>38.0</td>\n",
       "      <td>117.0</td>\n",
       "      <td>33.0</td>\n",
       "      <td>190.0</td>\n",
       "      <td>180.0</td>\n",
       "      <td>76.0</td>\n",
       "      <td>89.0</td>\n",
       "    </tr>\n",
       "    <tr>\n",
       "      <th>2023-03-18</th>\n",
       "      <td>USW00014739</td>\n",
       "      <td>2023-03-18</td>\n",
       "      <td>NaN</td>\n",
       "      <td>NaN</td>\n",
       "      <td>NaN</td>\n",
       "      <td>NaN</td>\n",
       "      <td>NaN</td>\n",
       "      <td>NaN</td>\n",
       "      <td>NaN</td>\n",
       "    </tr>\n",
       "    <tr>\n",
       "      <th>2023-03-19</th>\n",
       "      <td>NaN</td>\n",
       "      <td>NaN</td>\n",
       "      <td>NaN</td>\n",
       "      <td>NaN</td>\n",
       "      <td>NaN</td>\n",
       "      <td>NaN</td>\n",
       "      <td>NaN</td>\n",
       "      <td>NaN</td>\n",
       "      <td>NaN</td>\n",
       "    </tr>\n",
       "  </tbody>\n",
       "</table>\n",
       "</div>"
      ],
      "text/plain": [
       "                STATION        DATE  AWND   TMAX  TMIN   WDF2   WDF5   WSF2  \\\n",
       "2023-03-15  USW00014739  2023-03-15  92.0   67.0  11.0  320.0  330.0  143.0   \n",
       "2023-03-16  USW00014739  2023-03-16  60.0  106.0  11.0  290.0  280.0  103.0   \n",
       "2023-03-17  USW00014739  2023-03-17  38.0  117.0  33.0  190.0  180.0   76.0   \n",
       "2023-03-18  USW00014739  2023-03-18   NaN    NaN   NaN    NaN    NaN    NaN   \n",
       "2023-03-19          NaN         NaN   NaN    NaN   NaN    NaN    NaN    NaN   \n",
       "\n",
       "             WSF5  \n",
       "2023-03-15  197.0  \n",
       "2023-03-16  134.0  \n",
       "2023-03-17   89.0  \n",
       "2023-03-18    NaN  \n",
       "2023-03-19    NaN  "
      ]
     },
     "execution_count": 24,
     "metadata": {},
     "output_type": "execute_result"
    }
   ],
   "source": [
    "BostonLogan.tail() #there appears to be a several day lag in publishing the latest data"
   ]
  },
  {
   "cell_type": "code",
   "execution_count": 25,
   "metadata": {},
   "outputs": [
    {
     "data": {
      "image/png": "[encoded data removed]",
      "text/plain": [
       "<Figure size 1000x450 with 1 Axes>"
      ]
     },
     "metadata": {},
     "output_type": "display_data"
    }
   ],
   "source": [
    "plt.figure(figsize=(10,4.5))\n",
    "threshw=100 #wind threshold\n",
    "threshr=100 #rain threshold\n",
    "dirmin=60\n",
    "dirmax=140\n",
    "mask=((BostonLogan['WDF2']>=dirmin) & (BostonLogan['WDF2']<=dirmax) & (BostonLogan['WSF2']>=threshw)\n",
    "      & ((Watertown1['PRCP']>=threshr) | (Watertown2['PRCP']>=threshr)))\n",
    "col=np.where(mask,'r','c')\n",
    "#plt.bar(Watertown1.index,Watertown1['PRCP'],color=col)\n",
    "plt.bar(Watertown1.index, Watertown1['PRCP'])\n",
    "plt.scatter(BostonLogan.loc[mask].index,Watertown1.loc[mask]['PRCP'],marker='o')\n",
    "plt.axis(xmin=pd.to_datetime('2022-01-01').date(),xmax=pd.to_datetime('today').date())\n",
    "plt.ylabel('Precipitation [1/10 mm]')\n",
    "plt.xticks(BostonLogan.loc[mask].index,rotation=90)\n",
    "plt.title('Precipitation in Combination with strong Eastern winds in Watertown, MA');"
   ]
  },
  {
   "cell_type": "code",
   "execution_count": 26,
   "metadata": {},
   "outputs": [
    {
     "data": {
      "text/plain": [
       "(                STATION        DATE   AWND   TMAX   TMIN   WDF2   WDF5   WSF2  \\\n",
       " 2022-01-17  USW00014739  2022-01-17  107.0   94.0   17.0  100.0  120.0  197.0   \n",
       " 2022-03-24  USW00014739  2022-03-24   75.0   61.0   39.0  110.0  110.0  107.0   \n",
       " 2022-04-08  USW00014739  2022-04-08   55.0  172.0   67.0  130.0  120.0  134.0   \n",
       " 2022-04-19  USW00014739  2022-04-19   97.0  150.0   61.0  130.0   80.0  165.0   \n",
       " 2022-10-14  USW00014739  2022-10-14   44.0  206.0  139.0  130.0  130.0  125.0   \n",
       " 2022-11-16  USW00014739  2022-11-16   67.0  139.0   28.0  100.0  280.0  116.0   \n",
       " 2022-12-16  USW00014739  2022-12-16  110.0   72.0   56.0   70.0   60.0  143.0   \n",
       " 2023-01-20  USW00014739  2023-01-20   45.0   33.0   -6.0   60.0   60.0  161.0   \n",
       " 2023-03-04  USW00014739  2023-03-04   93.0   28.0   -6.0   80.0   90.0  165.0   \n",
       " \n",
       "              WSF5  \n",
       " 2022-01-17  250.0  \n",
       " 2022-03-24  130.0  \n",
       " 2022-04-08  170.0  \n",
       " 2022-04-19  206.0  \n",
       " 2022-10-14  157.0  \n",
       " 2022-11-16  152.0  \n",
       " 2022-12-16  183.0  \n",
       " 2023-01-20  192.0  \n",
       " 2023-03-04  201.0  ,\n",
       "                 STATION        DATE   PRCP  SNOW\n",
       " 2022-01-17  US1MAMD0119  2022-01-17  203.0   0.0\n",
       " 2022-03-24  US1MAMD0119  2022-03-24  102.0   0.0\n",
       " 2022-04-08  US1MAMD0119  2022-04-08  117.0   0.0\n",
       " 2022-04-19  US1MAMD0119  2022-04-19  300.0   0.0\n",
       " 2022-10-14  US1MAMD0119  2022-10-14  330.0   0.0\n",
       " 2022-11-16  US1MAMD0119  2022-11-16  175.0   0.0\n",
       " 2022-12-16  US1MAMD0119  2022-12-16  170.0   0.0\n",
       " 2023-01-20  US1MAMD0119  2023-01-20  269.0   5.0\n",
       " 2023-03-04  US1MAMD0119  2023-03-04  130.0   NaN,\n",
       "                 STATION        DATE   PRCP  SNOW\n",
       " 2022-01-17  US1MAMD0186  2022-01-17  198.0   NaN\n",
       " 2022-03-24  US1MAMD0186  2022-03-24   89.0   NaN\n",
       " 2022-04-08  US1MAMD0186  2022-04-08  117.0   NaN\n",
       " 2022-04-19  US1MAMD0186  2022-04-19  295.0   NaN\n",
       " 2022-10-14  US1MAMD0186  2022-10-14  287.0   NaN\n",
       " 2022-11-16  US1MAMD0186  2022-11-16  145.0   NaN\n",
       " 2022-12-16  US1MAMD0186  2022-12-16  137.0   NaN\n",
       " 2023-01-20  US1MAMD0186  2023-01-20  267.0   NaN\n",
       " 2023-03-04  US1MAMD0186  2023-03-04  124.0   NaN)"
      ]
     },
     "execution_count": 26,
     "metadata": {},
     "output_type": "execute_result"
    }
   ],
   "source": [
    "BostonLogan.loc[mask], Watertown1.loc[mask], Watertown2.loc[mask]\n",
    "#we see the rainfall amounts are generally similar between the two Watertown stations, \n",
    "#and the average wind speed vs fastest 2-min wind (WSF2) gives us an\n",
    "#idea about which days have sustained strong winds"
   ]
  },
  {
   "cell_type": "code",
   "execution_count": 27,
   "metadata": {},
   "outputs": [
    {
     "data": {
      "application/vnd.jupyter.widget-view+json": {
       "model_id": "0cd84ddd6c6a43e382954384de693917",
       "version_major": 2,
       "version_minor": 0
      },
      "text/plain": [
       "interactive(children=(IntSlider(value=100, continuous_update=False, description='rain threshold', max=400), In…"
      ]
     },
     "metadata": {},
     "output_type": "display_data"
    }
   ],
   "source": [
    "fig,ax=plt.subplots(figsize=(20,4.5))\n",
    "\n",
    "ax.set_ylabel('Precipitation [1/10 mm]')\n",
    "ax.set_title('Precipitation in combination with strong Eastern winds in Watertown, MA')\n",
    "ax.set_xlim(xmin=pd.to_datetime('2022-01-01').date(),xmax=pd.to_datetime('today').date())\n",
    "plt.setp(ax.get_xticklabels(),rotation=90)\n",
    "#plt.setp(ax,visible=False) #this only makes the first plot \"blank\", but doesn't stop it from appearing\n",
    "\n",
    "bars=ax.bar(Watertown1.index,Watertown1['PRCP'])#initialize bar plot\n",
    "plt.close(fig)#don't show figure (yet), stops first plot from appearing\n",
    "\n",
    "#plot update function\n",
    "def weatherplot(threshr,threshw,direction,complement):\n",
    "    #plt.clf() #does not remove the plot drawn outside of this function\n",
    "    #use AWND to gauge sustained strong wind\n",
    "    mask= (BostonLogan['WSF2']>=threshw) & (Watertown1['PRCP']>=threshr)\n",
    "    if complement:\n",
    "        mask&=((BostonLogan['WDF2']<=direction[0]) | (BostonLogan['WDF2']>=direction[1]))\n",
    "    else:\n",
    "        mask&=(BostonLogan['WDF2']>=direction[0]) & (BostonLogan['WDF2']<=direction[1])\n",
    "    for i in range(len(bars)):\n",
    "        if mask[i]:\n",
    "            bars[i].set(color='r',alpha=1)\n",
    "        else:\n",
    "            bars[i].set(color='k',alpha=0.3)\n",
    "    ticks=ax.set_xticks(BostonLogan.loc[mask].index)\n",
    "    #plt.show() ... does not seem to do the trick\n",
    "    #fig.canvas.draw_idle() ... does not seem to do the trick\n",
    "    display(fig)\n",
    "    #return fig#same effect as display(), this redraws the figure below, but it doesn't close/update the figure if drawn outside this function\n",
    "\n",
    "r_slider=widgets.IntSlider(value=100,min=0,max=400,step=1, description='rain threshold', continuous_update=False)\n",
    "w_slider=widgets.IntSlider(value=100,min=0,max=400,step=1,description='wind threshold', continuous_update=False)\n",
    "left_box=widgets.VBox([widgets.Label(value='rain threshold'), widgets.Label(value='wind threshold')])\n",
    "d_slider=widgets.IntRangeSlider(value=[60,140],min=0,max=360,step=1,description='wind direction', continuous_update=False)\n",
    "c_box=widgets.Checkbox(value=False,description='use complement of direction interval',disabled=False,indent=False)\n",
    "\n",
    "\n",
    "interact(weatherplot,threshr=r_slider,threshw=w_slider,direction=d_slider,complement=c_box);\n"
   ]
  },
  {
   "cell_type": "code",
   "execution_count": null,
   "metadata": {},
   "outputs": [],
   "source": []
  }
 ],
 "metadata": {
  "kernelspec": {
   "display_name": "Python 3 (ipykernel)",
   "language": "python",
   "name": "python3"
  },
  "language_info": {
   "codemirror_mode": {
    "name": "ipython",
    "version": 3
   },
   "file_extension": ".py",
   "mimetype": "text/x-python",
   "name": "python",
   "nbconvert_exporter": "python",
   "pygments_lexer": "ipython3",
   "version": "3.8.2"
  },
  "widgets": {
   "application/vnd.jupyter.widget-state+json": {
    "state": {
     "072c8ce308f441bc9767ff0758b9d855": {
      "model_module": "@jupyter-widgets/base",
      "model_module_version": "2.0.0",
      "model_name": "LayoutModel",
      "state": {}
     },
     "0a4f7220dede48469ba8ef9563dda5b4": {
      "model_module": "@jupyter-widgets/base",
      "model_module_version": "2.0.0",
      "model_name": "LayoutModel",
      "state": {}
     },
     "0cd84ddd6c6a43e382954384de693917": {
      "model_module": "@jupyter-widgets/controls",
      "model_module_version": "2.0.0",
      "model_name": "VBoxModel",
      "state": {
       "_dom_classes": [
        "widget-interact"
       ],
       "children": [
        "IPY_MODEL_80cb760f5a034ef7a804008192456652",
        "IPY_MODEL_673c6d2535554fa68cb403b6a70c0bb0",
        "IPY_MODEL_42df19c6d3be4ce5a44d7e0c07101246",
        "IPY_MODEL_2a53e0045d0342e5824495f7e67ba2dd",
        "IPY_MODEL_180e77ce05c642a8805f2db008ede2eb"
       ],
       "layout": "IPY_MODEL_6031074750f34f22a504f0adae84f5cd"
      }
     },
     "180e77ce05c642a8805f2db008ede2eb": {
      "model_module": "@jupyter-widgets/output",
      "model_module_version": "1.0.0",
      "model_name": "OutputModel",
      "state": {
       "layout": "IPY_MODEL_072c8ce308f441bc9767ff0758b9d855",
       "outputs": [
        {
         "data": {
          "image/png": "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",
          "text/plain": "<Figure size 2000x450 with 1 Axes>"
         },
         "metadata": {},
         "output_type": "display_data"
        }
       ]
      }
     },
     "2a53e0045d0342e5824495f7e67ba2dd": {
      "model_module": "@jupyter-widgets/controls",
      "model_module_version": "2.0.0",
      "model_name": "CheckboxModel",
      "state": {
       "description": "use complement of direction interval",
       "disabled": false,
       "indent": false,
       "layout": "IPY_MODEL_e680939865d649f8bb8791c635977e98",
       "style": "IPY_MODEL_2fcfd322354545fdb93a6979bf9dec50",
       "value": false
      }
     },
     "2c086eeb439f4e2b80bd8e6880fdfc2d": {
      "model_module": "@jupyter-widgets/controls",
      "model_module_version": "2.0.0",
      "model_name": "SliderStyleModel",
      "state": {
       "description_width": ""
      }
     },
     "2d40f000c41247c5a2a201e63e55b90e": {
      "model_module": "@jupyter-widgets/base",
      "model_module_version": "2.0.0",
      "model_name": "LayoutModel",
      "state": {}
     },
     "2fcfd322354545fdb93a6979bf9dec50": {
      "model_module": "@jupyter-widgets/controls",
      "model_module_version": "2.0.0",
      "model_name": "CheckboxStyleModel",
      "state": {
       "description_width": ""
      }
     },
     "3ea746e67c1645379d0215730bf3721f": {
      "model_module": "@jupyter-widgets/base",
      "model_module_version": "2.0.0",
      "model_name": "LayoutModel",
      "state": {}
     },
     "42df19c6d3be4ce5a44d7e0c07101246": {
      "model_module": "@jupyter-widgets/controls",
      "model_module_version": "2.0.0",
      "model_name": "IntRangeSliderModel",
      "state": {
       "_model_name": "IntRangeSliderModel",
       "_view_name": "IntRangeSliderView",
       "behavior": "drag-tap",
       "continuous_update": false,
       "description": "wind direction",
       "layout": "IPY_MODEL_5b430e049d454d7da3456861c5acd775",
       "max": 360,
       "style": "IPY_MODEL_b2c60c336af24183a1e82476ef87f8c4",
       "value": [
        60,
        140
       ]
      }
     },
     "479f53ddbd2440a4868265ee7440f0e2": {
      "model_module": "@jupyter-widgets/controls",
      "model_module_version": "2.0.0",
      "model_name": "LabelModel",
      "state": {
       "layout": "IPY_MODEL_3ea746e67c1645379d0215730bf3721f",
       "style": "IPY_MODEL_5b4cf27e95654cf2897afac8b0265aac",
       "value": "rain threshold"
      }
     },
     "5b430e049d454d7da3456861c5acd775": {
      "model_module": "@jupyter-widgets/base",
      "model_module_version": "2.0.0",
      "model_name": "LayoutModel",
      "state": {}
     },
     "5b4cf27e95654cf2897afac8b0265aac": {
      "model_module": "@jupyter-widgets/controls",
      "model_module_version": "2.0.0",
      "model_name": "LabelStyleModel",
      "state": {
       "description_width": "",
       "font_family": null,
       "font_size": null,
       "font_style": null,
       "font_variant": null,
       "font_weight": null,
       "text_color": null,
       "text_decoration": null
      }
     },
     "6031074750f34f22a504f0adae84f5cd": {
      "model_module": "@jupyter-widgets/base",
      "model_module_version": "2.0.0",
      "model_name": "LayoutModel",
      "state": {}
     },
     "673c6d2535554fa68cb403b6a70c0bb0": {
      "model_module": "@jupyter-widgets/controls",
      "model_module_version": "2.0.0",
      "model_name": "IntSliderModel",
      "state": {
       "behavior": "drag-tap",
       "continuous_update": false,
       "description": "wind threshold",
       "layout": "IPY_MODEL_0a4f7220dede48469ba8ef9563dda5b4",
       "max": 400,
       "style": "IPY_MODEL_db5a598d227748318d05e947ab493557",
       "value": 100
      }
     },
     "80cb760f5a034ef7a804008192456652": {
      "model_module": "@jupyter-widgets/controls",
      "model_module_version": "2.0.0",
      "model_name": "IntSliderModel",
      "state": {
       "behavior": "drag-tap",
       "continuous_update": false,
       "description": "rain threshold",
       "layout": "IPY_MODEL_2d40f000c41247c5a2a201e63e55b90e",
       "max": 400,
       "style": "IPY_MODEL_2c086eeb439f4e2b80bd8e6880fdfc2d",
       "value": 100
      }
     },
     "8bc428c99f014e45a6206ade061ef9ba": {
      "model_module": "@jupyter-widgets/controls",
      "model_module_version": "2.0.0",
      "model_name": "VBoxModel",
      "state": {
       "children": [
        "IPY_MODEL_479f53ddbd2440a4868265ee7440f0e2",
        "IPY_MODEL_dce94dbfdbc34538aa8d716c1a0e17f6"
       ],
       "layout": "IPY_MODEL_bd14cb48a0f042a78d81c322b54fe890"
      }
     },
     "8dd78086e23b4d42b9d5a46a92e61e6b": {
      "model_module": "@jupyter-widgets/controls",
      "model_module_version": "2.0.0",
      "model_name": "LabelStyleModel",
      "state": {
       "description_width": "",
       "font_family": null,
       "font_size": null,
       "font_style": null,
       "font_variant": null,
       "font_weight": null,
       "text_color": null,
       "text_decoration": null
      }
     },
     "b2c60c336af24183a1e82476ef87f8c4": {
      "model_module": "@jupyter-widgets/controls",
      "model_module_version": "2.0.0",
      "model_name": "SliderStyleModel",
      "state": {
       "description_width": ""
      }
     },
     "bd14cb48a0f042a78d81c322b54fe890": {
      "model_module": "@jupyter-widgets/base",
      "model_module_version": "2.0.0",
      "model_name": "LayoutModel",
      "state": {}
     },
     "db5a598d227748318d05e947ab493557": {
      "model_module": "@jupyter-widgets/controls",
      "model_module_version": "2.0.0",
      "model_name": "SliderStyleModel",
      "state": {
       "description_width": ""
      }
     },
     "dce94dbfdbc34538aa8d716c1a0e17f6": {
      "model_module": "@jupyter-widgets/controls",
      "model_module_version": "2.0.0",
      "model_name": "LabelModel",
      "state": {
       "layout": "IPY_MODEL_f9e30f35c97d42b89464452fa8101cfd",
       "style": "IPY_MODEL_8dd78086e23b4d42b9d5a46a92e61e6b",
       "value": "wind threshold"
      }
     },
     "e680939865d649f8bb8791c635977e98": {
      "model_module": "@jupyter-widgets/base",
      "model_module_version": "2.0.0",
      "model_name": "LayoutModel",
      "state": {}
     },
     "f9e30f35c97d42b89464452fa8101cfd": {
      "model_module": "@jupyter-widgets/base",
      "model_module_version": "2.0.0",
      "model_name": "LayoutModel",
      "state": {}
     }
    },
    "version_major": 2,
    "version_minor": 0
   }
  }
 },
 "nbformat": 4,
 "nbformat_minor": 4
}
